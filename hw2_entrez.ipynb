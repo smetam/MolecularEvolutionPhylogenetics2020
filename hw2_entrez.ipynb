{
 "cells": [
  {
   "cell_type": "code",
   "execution_count": 103,
   "metadata": {},
   "outputs": [],
   "source": [
    "import Bio\n",
    "import pandas as pd\n",
    "\n",
    "from itertools import combinations\n",
    "from Bio import Entrez, SeqIO, Align, AlignIO"
   ]
  },
  {
   "cell_type": "markdown",
   "metadata": {},
   "source": [
    "## Part 1."
   ]
  },
  {
   "cell_type": "markdown",
   "metadata": {},
   "source": [
    "### esearch"
   ]
  },
  {
   "cell_type": "code",
   "execution_count": 7,
   "metadata": {},
   "outputs": [],
   "source": [
    "Entrez.email = 'riserisen@yandex.ru'"
   ]
  },
  {
   "cell_type": "code",
   "execution_count": 19,
   "metadata": {},
   "outputs": [
    {
     "name": "stdout",
     "output_type": "stream",
     "text": [
      "<?xml version=\"1.0\" encoding=\"UTF-8\" ?>\n",
      "<!DOCTYPE eSearchResult PUBLIC \"-//NLM//DTD esearch 20060628//EN\" \"https://eutils.ncbi.nlm.nih.gov/eutils/dtd/20060628/esearch.dtd\">\n",
      "<eSearchResult><Count>9</Count><RetMax>9</RetMax><RetStart>0</RetStart><IdList>\n",
      "<Id>1676355513</Id>\n",
      "<Id>1676319656</Id>\n",
      "<Id>1519312966</Id>\n",
      "<Id>568815582</Id>\n",
      "<Id>74273666</Id>\n",
      "<Id>74230029</Id>\n",
      "<Id>33874733</Id>\n",
      "<Id>39754980</Id>\n",
      "<Id>307685420</Id>\n",
      "</IdList><TranslationSet><Translation>     <From>\"Homo sapiens\"[Organism]</From>     <To>\"Homo sapiens\"[Organism]</To>    </Translation></TranslationSet><TranslationStack>   <TermSet>    <Term>\"Homo sapiens\"[Organism]</Term>    <Field>Organism</Field>    <Count>27614182</Count>    <Explode>Y</Explode>   </TermSet>   <TermSet>    <Term>GSPT1[Gene]</Term>    <Field>Gene</Field>    <Count>1020</Count>    <Explode>N</Explode>   </TermSet>   <OP>AND</OP>  </TranslationStack><QueryTranslation>\"Homo sapiens\"[Organism] AND GSPT1[Gene]</QueryTranslation></eSearchResult>\n",
      "\n"
     ]
    }
   ],
   "source": [
    "handle = Entrez.esearch(db=\"nucleotide\", term='\"Homo sapiens\"[Organism] AND  GSPT1[Gene]')\n",
    "record = handle.read()\n",
    "print(record)"
   ]
  },
  {
   "cell_type": "markdown",
   "metadata": {},
   "source": [
    "### esearch + esummary"
   ]
  },
  {
   "cell_type": "code",
   "execution_count": 43,
   "metadata": {},
   "outputs": [
    {
     "data": {
      "text/html": [
       "<div>\n",
       "<style scoped>\n",
       "    .dataframe tbody tr th:only-of-type {\n",
       "        vertical-align: middle;\n",
       "    }\n",
       "\n",
       "    .dataframe tbody tr th {\n",
       "        vertical-align: top;\n",
       "    }\n",
       "\n",
       "    .dataframe thead th {\n",
       "        text-align: right;\n",
       "    }\n",
       "</style>\n",
       "<table border=\"1\" class=\"dataframe\">\n",
       "  <thead>\n",
       "    <tr style=\"text-align: right;\">\n",
       "      <th></th>\n",
       "      <th>UID</th>\n",
       "      <th>Accession_number</th>\n",
       "      <th>Sequence length</th>\n",
       "    </tr>\n",
       "  </thead>\n",
       "  <tbody>\n",
       "    <tr>\n",
       "      <td>0</td>\n",
       "      <td>1676355513</td>\n",
       "      <td>NM_001130006</td>\n",
       "      <td>7138</td>\n",
       "    </tr>\n",
       "    <tr>\n",
       "      <td>1</td>\n",
       "      <td>1676319656</td>\n",
       "      <td>NM_001130007</td>\n",
       "      <td>7166</td>\n",
       "    </tr>\n",
       "    <tr>\n",
       "      <td>2</td>\n",
       "      <td>1519312966</td>\n",
       "      <td>NM_002094</td>\n",
       "      <td>7141</td>\n",
       "    </tr>\n",
       "    <tr>\n",
       "      <td>3</td>\n",
       "      <td>568815582</td>\n",
       "      <td>NC_000016</td>\n",
       "      <td>90338345</td>\n",
       "    </tr>\n",
       "    <tr>\n",
       "      <td>4</td>\n",
       "      <td>74273666</td>\n",
       "      <td>CM000267</td>\n",
       "      <td>75226909</td>\n",
       "    </tr>\n",
       "    <tr>\n",
       "      <td>5</td>\n",
       "      <td>74230029</td>\n",
       "      <td>CH471112</td>\n",
       "      <td>14690834</td>\n",
       "    </tr>\n",
       "    <tr>\n",
       "      <td>6</td>\n",
       "      <td>33874733</td>\n",
       "      <td>BC009503</td>\n",
       "      <td>2523</td>\n",
       "    </tr>\n",
       "    <tr>\n",
       "      <td>7</td>\n",
       "      <td>39754980</td>\n",
       "      <td>AY398991</td>\n",
       "      <td>1562</td>\n",
       "    </tr>\n",
       "    <tr>\n",
       "      <td>8</td>\n",
       "      <td>307685420</td>\n",
       "      <td>AB590486</td>\n",
       "      <td>1919</td>\n",
       "    </tr>\n",
       "  </tbody>\n",
       "</table>\n",
       "</div>"
      ],
      "text/plain": [
       "          UID Accession_number  Sequence length\n",
       "0  1676355513     NM_001130006             7138\n",
       "1  1676319656     NM_001130007             7166\n",
       "2  1519312966        NM_002094             7141\n",
       "3   568815582        NC_000016         90338345\n",
       "4    74273666         CM000267         75226909\n",
       "5    74230029         CH471112         14690834\n",
       "6    33874733         BC009503             2523\n",
       "7    39754980         AY398991             1562\n",
       "8   307685420         AB590486             1919"
      ]
     },
     "execution_count": 43,
     "metadata": {},
     "output_type": "execute_result"
    }
   ],
   "source": [
    "handle = Entrez.esearch(db=\"nucleotide\", term='\"Homo sapiens\"[Organism] AND  GSPT1[Gene]')\n",
    "record = Entrez.read(handle)\n",
    "id_list, caption_list, length_list = [], [], []\n",
    "\n",
    "summary_handle = Entrez.esummary(db=\"nucleotide\", id=','.join(record[\"IdList\"]))\n",
    "summary = Entrez.read(summary_handle)\n",
    "for rec in summary:\n",
    "    id_list.append(rec['Id'])\n",
    "    caption_list.append(rec['Caption'])\n",
    "    length_list.append(rec['Length'])\n",
    "\n",
    "df = pd.DataFrame({'UID': id_list, 'Accession_number': caption_list, 'Sequence length': length_list})\n",
    "df"
   ]
  },
  {
   "cell_type": "markdown",
   "metadata": {},
   "source": [
    "### esearch + efetch"
   ]
  },
  {
   "cell_type": "code",
   "execution_count": 51,
   "metadata": {},
   "outputs": [],
   "source": [
    "handle = Entrez.esearch(db=\"nucleotide\", term='\"Homo sapiens\"[Organism] AND  GSPT1[Gene]')\n",
    "record = Entrez.read(handle)\n",
    "\n",
    "with open('fetched_sequences.fa', 'w') as f:\n",
    "    fetch_handle = Entrez.efetch(db=\"nucleotide\", id=','.join(record[\"IdList\"][:3]), rettype=\"fasta\", retmode=\"text\")\n",
    "    f.write(fetch_handle.read())"
   ]
  },
  {
   "cell_type": "code",
   "execution_count": 55,
   "metadata": {},
   "outputs": [
    {
     "name": "stdout",
     "output_type": "stream",
     "text": [
      ">NM_001130006.2 Homo sapiens G1 to S phase transition 1 (GSPT1), transcript variant 2, mRNA\n",
      "GCTCACACACACGAGGAGGAGGGTTGAGCTGCCGCCGCCGCCGCCTCTGTCGTCGTCGCGAGTGTGGAGT\n",
      "CGGGACTGGAGCTGCTGCCGCGGCGACGCCGGGGATCTTTGTCGCTAGCTCCCGGCCCTTCTGCCCCGCC\n",
      "GCCTTCCCTCAGTCAGCGTTGCCCACTCCTCTCCGGCCGGGCGCCCCTGCCTCCATTTCCCGCTCTCTGT\n",
      "CCACCACACACACGGCCCCCCCGATCATGGATCCGGGCAGTGGCGGCGGCGGCGGCGGCGGCGGCGGCGG\n",
      "CGGGAGCAGCAGCGGCAGCAGCAGCAGCGACTCGGCGCCTGACTGCTGGGACCAGGCGGACATGGAAGCC\n",
      "CCCGGGCCGGGCCCTTGCGGCGGCGGCGGCTCCCTGGCGGCGGCGGCCGAGGCCCAGCGGGAGAACCTCA\n",
      "GCGCGGCCTTCAGCCGGCAACTCAACGTCAACGCCAAGCCCTTCGTGCCCAACGTCCACGCCGCCGAGTT\n",
      "CGTGCCGTCCTTCCTGCGGGGCCCGGCAGCGCCGCCACCCCCAGTTGGCGGCGCCGCCAATAACCACGGA\n",
      "GCCGGCAGCGGCGCGGGAGGCCGTGCGGCACCTGTGGAATCCTCTCAAGAGGAACAGTCATTGTGTGAAG\n",
      "GTTCAAATTCAGCTGTTAGCATGGAACTTTCAGAACCTATTGAAAATGGAGAGACAGAAATGTCTCCAGA\n",
      "AGAATCATGGGAGCACAAAGAAGAAATAAGTGAAGCAGAGCCAGGGGGTGGTTCCTTGGGAGATGGAAGG\n",
      "CCGCCAGAGGAAAGTGCCCATGAAATGATGGAGGAGGAAGAGGAAATCCCAAAACCTAAGTCTGTGGTTG\n",
      "CACCGCCAGGTGCTCCTAAGAAAGAGCATGTAAATGTAGTATTCATTGGGCACGTAGATGCTGGCAAGTC\n",
      "AACCATTGGAGGACAAATAATGTATTTGACTGGAATGGTTGACAAAAGGACGCTTGAAAAGTATGAAAGA\n",
      "GAAGCTAAAGAGAAAAACAGAGAAA\n"
     ]
    }
   ],
   "source": [
    "with open('fetched_sequences.fa', 'r') as f:\n",
    "    print(f.read()[:1111])"
   ]
  },
  {
   "cell_type": "markdown",
   "metadata": {},
   "source": [
    "### elink + efetch"
   ]
  },
  {
   "cell_type": "code",
   "execution_count": 88,
   "metadata": {},
   "outputs": [
    {
     "name": "stdout",
     "output_type": "stream",
     "text": [
      "[{'Link': [{'Id': '19568061'}, {'Id': '19568059'}, {'Id': '19568057'}, {'Id': '19568055'}, {'Id': '19568053'}, {'Id': '19568051'}, {'Id': '19568049'}, {'Id': '19568047'}, {'Id': '19568045'}, {'Id': '19568043'}, {'Id': '19568041'}, {'Id': '19568039'}, {'Id': '19568037'}, {'Id': '19568035'}, {'Id': '19568033'}, {'Id': '19568031'}, {'Id': '19568029'}, {'Id': '19568027'}, {'Id': '19568025'}, {'Id': '19568023'}, {'Id': '19568021'}, {'Id': '19568019'}, {'Id': '19568017'}, {'Id': '19568015'}, {'Id': '19567985'}, {'Id': '19567983'}, {'Id': '19567981'}, {'Id': '19567979'}, {'Id': '19567977'}, {'Id': '19567975'}, {'Id': '19567973'}, {'Id': '19567971'}, {'Id': '19567969'}, {'Id': '19567967'}, {'Id': '19567965'}, {'Id': '19567963'}, {'Id': '19567961'}, {'Id': '19567959'}, {'Id': '19567957'}, {'Id': '19567955'}], 'DbTo': 'nuccore', 'LinkName': 'pubmed_nuccore'}]\n"
     ]
    }
   ],
   "source": [
    "pmid = '12890024'\n",
    "paper = Entrez.elink(dbfrom=\"pubmed\", db=\"nucleotide\", id=pmid)\n",
    "res = Entrez.read(paper)[0]['LinkSetDb']\n",
    "print(res)\n",
    "    \n",
    "with open('linked_sequences.fa', 'w') as f:\n",
    "    for link_set in res:\n",
    "        db = link_set['DbTo']\n",
    "        ids = ','.join([item['Id'] for item in link_set['Link']])\n",
    "        fetch_handle = Entrez.efetch(db=db, id=ids, rettype=\"fasta\", retmode=\"text\")\n",
    "        f.write(fetch_handle.read() + '\\n')\n",
    "    "
   ]
  },
  {
   "cell_type": "code",
   "execution_count": 89,
   "metadata": {},
   "outputs": [
    {
     "name": "stdout",
     "output_type": "stream",
     "text": [
      ">AY028697.1 Saccharomyces cerevisiae strain SCI9 prion protein (URE2) gene, partial cds\n",
      "TGCTGCAAATTAAGTTGTACACCAAATGATGAATAACAACGGCAACCAAGTGTCGAATCTCTCCAATGCG\n",
      "CTCCGTCAAGTAAACATAGGAAACAGGAACAGTAATACAACCACCGATCAAAGTAATATAAATTTTGAAT\n",
      "TTTCAACAGGTGTAAATAATAATAATAATAACAATAGCAGTAGTAATAACAATAATGTTCAAAACAATAA\n",
      "CAGCGGCCGCAATGGTAGCCAAAATAATGATAACGAGAATAATATCAAGAATACCTTAGAACAACATCGA\n",
      "CAACAACAACAGGCATTTTCGGATATGAGTCACGTGG\n",
      "\n",
      ">AY028696.1 Saccharomyces cerevisiae strain SCI16 prion protein (URE2) gene, partial cds\n",
      "TGCTGCAAATTAAGTTGTACACCAAATGATGAATAACAACGGCAACCAAGTGTCGAATCTCTCCAATGCG\n",
      "CTCCGTCAAGTAAACATAGGAAACAGGAACAGTAATACAACCACCGATCAAAGTAATATAAATTTTGAAT\n",
      "TTTCAACAGGTGTAAATAATAATAATAATAACAATAGCAGTAGTAATAACAATAATGTTCAAAACAATAA\n",
      "CAGCGGCCGCAATGGTAGCCAAAATAATGATAACGAGAATAATATCAAGAATACCTTAGAACAACATCGA\n",
      "CAACAACAACAGGCATTTTCGGATATGAGTCACGTGG\n",
      "\n",
      ">AY028695.1 Saccharomyces cerevisiae strain SCI11 prion protein (URE2) gene, partial cds\n",
      "TGCTGCAAATTAAGTTGTACACCAAATGATGAATAACAACGGCAACCAAGTGTCGAATCTCTCCAATGCG\n",
      "CTCCGTCAAGTAAACATAGGAAACAGGAACAGTAATACAACCACCGATCAAAGTAATATAAATTTTGAAT\n",
      "TTTCAACAGGTGTAAATAATAATAATAATAACAATAGCAGTAGTAATAACAATAATG\n"
     ]
    }
   ],
   "source": [
    "with open('linked_sequences.fa', 'r') as f:\n",
    "    print(f.read()[:1111])"
   ]
  },
  {
   "cell_type": "markdown",
   "metadata": {},
   "source": [
    "## Part 2."
   ]
  },
  {
   "cell_type": "markdown",
   "metadata": {},
   "source": [
    "### 1 Blast results\n",
    "Organism - Kluyveromyces lactis  \n",
    "LOCUS - CP021242  \n",
    "type - genomic DNA  "
   ]
  },
  {
   "cell_type": "markdown",
   "metadata": {},
   "source": [
    "### 2 Alignments  \n",
    "COMMANDS:  \n",
    "muscle -in SUP35_10seqs.fa -verbose -quiet -fasta -out muscle_aln.fa  \n",
    "mafft --thread 2 --anysymbol --bl 62 --op 1.53 --ep 0.123 --reorder --retree 2 --treeout --maxiterate 2 --nuc SUP35_10seqs.fa  \n",
    "t_coffee -in SUP35_10seqs.fa -case=upper -n_core=2 -output=\"fasta\" -outorder=aligned -type=dna  \n",
    "kalign -i SUP35_10seqs.fa -f fasta -s 80.0 -e 3.0 -t 3.0 -m 0.0"
   ]
  },
  {
   "cell_type": "code",
   "execution_count": 130,
   "metadata": {},
   "outputs": [
    {
     "name": "stdout",
     "output_type": "stream",
     "text": [
      "alignment lengths:  {'mafft': 2286, 'muscle': 2275, 'tcoffee': 2210, 'kalign': 2500}\n",
      "scores:  {'mafft': 1014, 'muscle': 1042, 'tcoffee': 1032, 'kalign': 1073}\n"
     ]
    }
   ],
   "source": [
    "aligner = Align.PairwiseAligner()\n",
    "aligners = ['mafft', 'muscle', 'tcoffee', 'kalign']\n",
    "scores = {alnr: 0 for alnr in aligners}\n",
    "aln_files = {alnr: f'data/sup35/almt/{alnr}_aln.fa' for alnr in aligners}\n",
    "lengths = {}\n",
    "\n",
    "for alnr in aligners:\n",
    "    file = aln_files[alnr]\n",
    "    align = AlignIO.read(file, \"fasta\")\n",
    "    l = align.get_alignment_length()\n",
    "    lengths[alnr] = l\n",
    "    for i in range(l):\n",
    "        if len(set(align[:, i])) == 1:\n",
    "            scores[alnr] += 1\n",
    "\n",
    "print(\"alignment lengths: \", lengths)\n",
    "print(\"scores: \", scores)"
   ]
  },
  {
   "cell_type": "markdown",
   "metadata": {},
   "source": [
    "|ALIGNER| RUNNING TIME| FULL MATCHES | GBLOCKS POSITIONS | GBLOCKS % |\n",
    "|------|-----|------|------|------------------------------------|\n",
    "|MUSCLE| 8s  | 1042 | 1753 | 77% of the original 2275 positions |\n",
    "|MAFFT | 5s  | 1014 | 1786 | 78% of the original 2286 positions |\n",
    "|TCOFFE| 40s | 1032 | 1722 | 77% of the original 2210 positions |\n",
    "|KALIGN| 3s  | 1073 | 1377 | 55% of the original 2500 positions |"
   ]
  },
  {
   "cell_type": "markdown",
   "metadata": {},
   "source": [
    "### 3 Faulty alignment\n",
    "Sequence  \n",
    ">SUP35_Spar_A12_Liti_  \n",
    "\n",
    "should be reverse-complemented to fix the alignment."
   ]
  },
  {
   "cell_type": "markdown",
   "metadata": {},
   "source": [
    "### 4 Amino acid alignment"
   ]
  },
  {
   "cell_type": "code",
   "execution_count": 133,
   "metadata": {},
   "outputs": [
    {
     "name": "stdout",
     "output_type": "stream",
     "text": [
      "alignment lengths:  {'mafft': 755, 'muscle': 743, 'tcoffee': 752, 'kalign': 793}\n",
      "scores:  {'mafft': 412, 'muscle': 407, 'tcoffee': 410, 'kalign': 427}\n"
     ]
    }
   ],
   "source": [
    "aligner = Align.PairwiseAligner()\n",
    "aligners = ['mafft', 'muscle', 'tcoffee', 'kalign']\n",
    "scores = {alnr: 0 for alnr in aligners}\n",
    "aln_files = {alnr: f'data/sup35/almt/{alnr}_amin_aln.fa' for alnr in aligners}\n",
    "lengths = {}\n",
    "\n",
    "for alnr in aligners:\n",
    "    file = aln_files[alnr]\n",
    "    align = AlignIO.read(file, \"fasta\")\n",
    "    l = align.get_alignment_length()\n",
    "    lengths[alnr] = l\n",
    "    for i in range(l):\n",
    "        if len(set(align[:, i])) == 1:\n",
    "            scores[alnr] += 1\n",
    "\n",
    "print(\"alignment lengths: \", lengths)\n",
    "print(\"scores: \", scores)"
   ]
  },
  {
   "cell_type": "markdown",
   "metadata": {},
   "source": [
    "|ALIGNER| RUNNING TIME| FULL MATCHES | GBLOCKS POSITIONS | GBLOCKS % |\n",
    "|------|-----|-----|-----|-----------------------------------|\n",
    "|MUSCLE| 2s  | 407 | 553 | 74% of the original 743 positions |\n",
    "|MAFFT | 2s  | 412 | 542 | 71% of the original 755 positions |\n",
    "|TCOFFE| 7s  | 410 | 558 | 74% of the original 752 positions |\n",
    "|KALIGN| 3s  | 427 | 480 | 60% of the original 793 positions |"
   ]
  },
  {
   "cell_type": "markdown",
   "metadata": {},
   "source": [
    "## Results\n",
    "Choice of the algorithm depends mostly on metric, you are mosted interested in.  \n",
    "Tcoffee works slower in most cases.  \n",
    "Kalign is fastest, but less accurate, since it maximazes number of full matches by increasing the number of indels.  \n",
    "Muscle is the most balanced and preferable choice."
   ]
  },
  {
   "cell_type": "code",
   "execution_count": null,
   "metadata": {},
   "outputs": [],
   "source": []
  }
 ],
 "metadata": {
  "kernelspec": {
   "display_name": "Python 3",
   "language": "python",
   "name": "python3"
  },
  "language_info": {
   "codemirror_mode": {
    "name": "ipython",
    "version": 3
   },
   "file_extension": ".py",
   "mimetype": "text/x-python",
   "name": "python",
   "nbconvert_exporter": "python",
   "pygments_lexer": "ipython3",
   "version": "3.7.4"
  }
 },
 "nbformat": 4,
 "nbformat_minor": 2
}
